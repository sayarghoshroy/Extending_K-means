{
  "nbformat": 4,
  "nbformat_minor": 0,
  "metadata": {
    "kernelspec": {
      "display_name": "Python 3",
      "language": "python",
      "name": "python3"
    },
    "language_info": {
      "codemirror_mode": {
        "name": "ipython",
        "version": 3
      },
      "file_extension": ".py",
      "mimetype": "text/x-python",
      "name": "python",
      "nbconvert_exporter": "python",
      "pygments_lexer": "ipython3",
      "version": "3.7.3"
    },
    "colab": {
      "name": "Extending_K-means.ipynb",
      "provenance": [],
      "collapsed_sections": [],
      "include_colab_link": true
    }
  },
  "cells": [
    {
      "cell_type": "markdown",
      "metadata": {
        "id": "view-in-github",
        "colab_type": "text"
      },
      "source": [
        "<a href=\"https://colab.research.google.com/github/sayarghoshroy/Extending_K-means/blob/master/Extending_K_means.ipynb\" target=\"_parent\"><img src=\"https://colab.research.google.com/assets/colab-badge.svg\" alt=\"Open In Colab\"/></a>"
      ]
    },
    {
      "cell_type": "code",
      "metadata": {
        "id": "xaYR4HAEX8H7",
        "colab_type": "code",
        "colab": {}
      },
      "source": [
        "# Extending K-means Clustering Algorithm"
      ],
      "execution_count": 0,
      "outputs": []
    },
    {
      "cell_type": "code",
      "metadata": {
        "id": "BnML0iNKX8IS",
        "colab_type": "code",
        "colab": {}
      },
      "source": [
        "import numpy as np\n",
        "import matplotlib.pyplot as plt\n",
        "import matplotlib.colors as color"
      ],
      "execution_count": 0,
      "outputs": []
    },
    {
      "cell_type": "code",
      "metadata": {
        "id": "EmpMFLnnX8In",
        "colab_type": "code",
        "colab": {}
      },
      "source": [
        "# Two Lines: (a) y = x\n",
        "#            (b) y = (-1).x\n",
        "# We'll have n_a points on line_(a) and (1000 - n_a) = n_b points on line_(b)"
      ],
      "execution_count": 0,
      "outputs": []
    },
    {
      "cell_type": "code",
      "metadata": {
        "id": "5oxCfgpxX8I9",
        "colab_type": "code",
        "colab": {}
      },
      "source": [
        "n_a = 500 # to ensure uniform distribution on the 'x'\n",
        "n_b = 1000 - n_a\n",
        "\n",
        "x_a = (np.random.random(n_a) - np.ones(n_a) * 0.5) * 10\n",
        "x_b = (np.random.random(n_b) - np.ones(n_b) * 0.5) * 10\n",
        "y_a = x_a\n",
        "y_b = (-1) * x_b\n",
        "# The implementation is perfectly generic, any valid equation of the form 'y = m.x + c' can be used here"
      ],
      "execution_count": 0,
      "outputs": []
    },
    {
      "cell_type": "code",
      "metadata": {
        "id": "S2LVv0ULX8JK",
        "colab_type": "code",
        "colab": {}
      },
      "source": [
        "points_a = [ [x_a[i], y_a[i]] for i in range(n_a)]\n",
        "points_b = [ [x_b[i], y_b[i]] for i in range(n_b)]\n",
        "all_points = points_a + points_b"
      ],
      "execution_count": 0,
      "outputs": []
    },
    {
      "cell_type": "code",
      "metadata": {
        "id": "_Y2zbavwX8JZ",
        "colab_type": "code",
        "colab": {}
      },
      "source": [
        "# Partitioning the data into 2 random subsets\n",
        "set_A = []\n",
        "set_B = []\n",
        "for i in range(n_a + n_b):\n",
        "    toss = np.random.random()\n",
        "    if toss > 0.5:\n",
        "        set_A.append(all_points[i])\n",
        "    else:\n",
        "        set_B.append(all_points[i])"
      ],
      "execution_count": 0,
      "outputs": []
    },
    {
      "cell_type": "code",
      "metadata": {
        "id": "O8R3kDZzX8Jm",
        "colab_type": "code",
        "colab": {}
      },
      "source": [
        "def get_line(points):\n",
        "    # getting the equation of a straight line for the subset of points\n",
        "    eigvals, eigvecs = np.linalg.eig(np.cov(np.asarray(points).T))\n",
        "    best_index = np.flip(np.argsort(eigvals))[0]\n",
        "    vec = eigvecs[best_index]\n",
        "    mean = np.mean(np.asarray(points), axis = 1)\n",
        "    params = {'direction': vec, 'centre': mean}\n",
        "    # Expressing equation in form y = mx + c\n",
        "    m = vec[1] / vec[0]\n",
        "    c = mean[1] - m * mean[0]\n",
        "    return {'m': m, 'c': c}"
      ],
      "execution_count": 0,
      "outputs": []
    },
    {
      "cell_type": "code",
      "metadata": {
        "id": "immNHAC7X8Jv",
        "colab_type": "code",
        "colab": {}
      },
      "source": [
        "def distance(line, point):\n",
        "    # compute distance from point to the line\n",
        "    # line is a dictionary of the form {'m': _, 'c': _}\n",
        "    return np.abs(line['c'] + line['m'] * point[0] - point[1]) / np.sqrt(1 + np.power(line['m'], 2))"
      ],
      "execution_count": 0,
      "outputs": []
    },
    {
      "cell_type": "code",
      "metadata": {
        "id": "dcyFKS-aX8J5",
        "colab_type": "code",
        "colab": {}
      },
      "source": [
        "num_iter = 0\n",
        "max_iter = 10000\n",
        "\n",
        "while num_iter < max_iter:\n",
        "    num_iter += 1\n",
        "    if(len(set_A) == 0 or len(set_B) == 0):\n",
        "        # all points have been placed into a single cluster\n",
        "        break\n",
        "    \n",
        "    line_A = get_line(set_A)\n",
        "    line_B = get_line(set_B)\n",
        "    # fitting staright lines for subsets A and B\n",
        "    new_A = []\n",
        "    new_B = []\n",
        "    \n",
        "    for point in all_points:\n",
        "        dist_A = distance(line_A, point)\n",
        "        dist_B = distance(line_B, point)\n",
        "        \n",
        "        # re-assigning points based on distance from their representative line\n",
        "        if dist_A < dist_B:\n",
        "            new_A.append(point)\n",
        "        else:\n",
        "            new_B.append(point)\n",
        "    \n",
        "    if set_A == new_A or set_A == new_B:\n",
        "        # convergence achieved\n",
        "        # set_A == new_B takes care of cluster renaming\n",
        "        break\n",
        "    \n",
        "    set_A = new_A\n",
        "    set_B = new_B"
      ],
      "execution_count": 0,
      "outputs": []
    },
    {
      "cell_type": "code",
      "metadata": {
        "id": "xcxQ_TCZX8KJ",
        "colab_type": "code",
        "colab": {},
        "outputId": "807b82b9-09da-46b5-a439-9586f9179db6"
      },
      "source": [
        "# Plotting the results of the clustering\n",
        "plt.figure()\n",
        "plt.title('Clustering using an extended K-means algorithm')\n",
        "plt.xlabel('x')\n",
        "plt.ylabel('y')\n",
        "plt.scatter([i[0] for i in set_A], [i[1] for i in set_A], color = 'red', label = 'Red Cluster')\n",
        "plt.scatter([i[0] for i in set_B], [i[1] for i in set_B], color = 'blue', label = 'Blue Cluster')\n",
        "plt.legend()\n",
        "plt.show()"
      ],
      "execution_count": 0,
      "outputs": [
        {
          "output_type": "display_data",
          "data": {
            "image/png": "[encoded data removed]",
            "text/plain": [
              "<Figure size 432x288 with 1 Axes>"
            ]
          },
          "metadata": {
            "tags": [],
            "needs_background": "light"
          }
        }
      ]
    },
    {
      "cell_type": "code",
      "metadata": {
        "id": "gOn5QCzbX8Ka",
        "colab_type": "code",
        "colab": {},
        "outputId": "6401c541-e3e7-45df-d3c9-2a44568384bf"
      },
      "source": [
        "print(\"The final straight lines found:\")\n",
        "line_red = get_line(set_A)\n",
        "line_blue = get_line(set_B)\n",
        "print(line_red)\n",
        "print(line_blue)"
      ],
      "execution_count": 0,
      "outputs": [
        {
          "output_type": "stream",
          "text": [
            "The final straight lines found:\n",
            "{'m': -1.0000064843373864, 'c': 0.5822311646342548}\n",
            "{'m': 1.0, 'c': 0.0}\n"
          ],
          "name": "stdout"
        }
      ]
    },
    {
      "cell_type": "code",
      "metadata": {
        "id": "s7X5hMdUX8Kt",
        "colab_type": "code",
        "colab": {}
      },
      "source": [
        "# The number of iterations needed for convergence vary greatly\n",
        "# with the random creation of set_A and set_B from all_points"
      ],
      "execution_count": 0,
      "outputs": []
    },
    {
      "cell_type": "code",
      "metadata": {
        "id": "AWktlTYNX8K6",
        "colab_type": "code",
        "colab": {}
      },
      "source": [
        "# Thank You ^_^"
      ],
      "execution_count": 0,
      "outputs": []
    }
  ]
}